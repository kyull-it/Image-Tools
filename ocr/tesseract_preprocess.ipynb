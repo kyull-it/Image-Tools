{
 "cells": [
  {
   "cell_type": "markdown",
   "id": "6983de95-906a-4a0c-9a38-23ebd9a86b3f",
   "metadata": {
    "tags": []
   },
   "source": [
    "## Pre-processing Images for OCR\n",
    "https://tesseract-ocr.github.io/tessdoc/ImproveQuality.html#page-segmentation-method\n",
    "1) Inverted Images\n",
    "2) Rescaling\n",
    "3) Binarization\n",
    "4) Noise Removal\n",
    "5) Dilation and Erosion\n",
    "6) Rotation / Deskewing\n",
    "  https://gist.github.com/endolith/334196bac1cac45a4893#\n",
    "7) Removing Borders\n",
    "8) Missing Borders\n",
    "9) Transparency / Alpha Channel\n",
    "\n",
    "### Page segmentation method\n",
    "  0    Orientation and script detection (OSD) only.<br>\n",
    "  1    Automatic page segmentation with OSD.<br>\n",
    "  2    Automatic page segmentation, but no OSD, or OCR.<br>\n",
    "  3    Fully automatic page segmentation, but no OSD. (Default)<br>\n",
    "  4    Assume a single column of text of variable sizes.<br>\n",
    "  5    Assume a single uniform block of vertically aligned text.<br>\n",
    "  6    Assume a single uniform block of text.<br>\n",
    "  7    Treat the image as a single text line.<br>\n",
    "  8    Treat the image as a single word.<br>\n",
    "  9    Treat the image as a single word in a circle.<br>\n",
    " 10    Treat the image as a single character.<br>\n",
    " 11    Sparse text. Find as much text as possible in no particular order.<br>\n",
    " 12    Sparse text with OSD.<br>\n",
    " 13    Raw line. Treat the image as a single text line, bypassing hacks that are Tesseract-specific."
   ]
  },
  {
   "cell_type": "markdown",
   "id": "3c7efe6c-71ca-4a76-8de6-e022589b5b60",
   "metadata": {},
   "source": [
    "#### ref\n",
    "https://youtu.be/ADV-AjAXHdc"
   ]
  },
  {
   "cell_type": "code",
   "execution_count": 1,
   "id": "d89c5de0",
   "metadata": {},
   "outputs": [
    {
     "name": "stdout",
     "output_type": "stream",
     "text": [
      "Collecting Pillow\n",
      "  Downloading Pillow-9.2.0-cp310-cp310-win_amd64.whl (3.3 MB)\n",
      "     ---------------------------------------- 3.3/3.3 MB 8.0 MB/s eta 0:00:00\n",
      "Installing collected packages: Pillow\n",
      "Successfully installed Pillow-9.2.0\n"
     ]
    }
   ],
   "source": [
    "!pip install Pillow\n",
    "\n",
    "from PIL import Image\n",
    "import PIL.ImageOps as ops\n",
    "\n",
    "import os"
   ]
  },
  {
   "cell_type": "markdown",
   "id": "56d06044-550d-4738-bb7b-1cbcaa4c8d37",
   "metadata": {},
   "source": [
    "## grayscale"
   ]
  },
  {
   "cell_type": "code",
   "execution_count": 12,
   "id": "7a2e2446-4091-433d-8912-aa7a5a90af11",
   "metadata": {
    "tags": []
   },
   "outputs": [],
   "source": [
    "filename = 'D:/Program/tesseract/sample/test2/news_page.png'\n",
    "img1 = Image.open(filename).convert('L')\n",
    "img1.show(title=None)"
   ]
  },
  {
   "cell_type": "markdown",
   "id": "e4076ab1-5155-43fc-840c-9826566fcb0e",
   "metadata": {},
   "source": [
    "## Resize"
   ]
  },
  {
   "cell_type": "markdown",
   "id": "53b3b08e-0c7d-46b1-a4c5-096990791388",
   "metadata": {},
   "source": [
    "회사에서 pyvips코드 옮겨오기"
   ]
  },
  {
   "cell_type": "code",
   "execution_count": 11,
   "id": "c45fca32",
   "metadata": {},
   "outputs": [
    {
     "name": "stderr",
     "output_type": "stream",
     "text": [
      "C:\\Users\\kyulldozer\\AppData\\Local\\Temp\\ipykernel_5412\\4158167495.py:1: DeprecationWarning: BILINEAR is deprecated and will be removed in Pillow 10 (2023-07-01). Use Resampling.BILINEAR instead.\n",
      "  respimg1 = ops.scale(img1, 1.5, resample=Image.BILINEAR)\n"
     ]
    }
   ],
   "source": [
    "respimg1 = ops.scale(img1, 2, resample=Image.BILINEAR)\n",
    "respimg1.show(title=None)\n",
    "\n",
    "# factor : >1 is upsampling / 0< <1 is downsampling\n",
    "# resampling : NEAREST not good!  BICUBIC and BILINEAR are similar"
   ]
  },
  {
   "cell_type": "code",
   "execution_count": 10,
   "id": "20b0c541",
   "metadata": {},
   "outputs": [],
   "source": [
    "respimg1.save('D:/Program/pkg/tesseract/sample_img/news_page_rescale.png', format = 'png')"
   ]
  },
  {
   "cell_type": "code",
   "execution_count": 23,
   "id": "e425fa52",
   "metadata": {},
   "outputs": [
    {
     "data": {
      "text/plain": [
       "0"
      ]
     },
     "execution_count": 23,
     "metadata": {},
     "output_type": "execute_result"
    }
   ],
   "source": [
    "os.system(\"tesseract D:/Program/pkg/tesseract/sample_img/news_page_rescale.png D:/Program/pkg/tesseract/sample_img/news_page_rescale.txt -l kor --psm 4\")"
   ]
  },
  {
   "cell_type": "code",
   "execution_count": null,
   "id": "858a85af-f6aa-4432-bf6b-e1d85d8b792b",
   "metadata": {},
   "outputs": [],
   "source": []
  }
 ],
 "metadata": {
  "kernelspec": {
   "display_name": "Python 3 (ipykernel)",
   "language": "python",
   "name": "python3"
  },
  "language_info": {
   "codemirror_mode": {
    "name": "ipython",
    "version": 3
   },
   "file_extension": ".py",
   "mimetype": "text/x-python",
   "name": "python",
   "nbconvert_exporter": "python",
   "pygments_lexer": "ipython3",
   "version": "3.10.6"
  }
 },
 "nbformat": 4,
 "nbformat_minor": 5
}
